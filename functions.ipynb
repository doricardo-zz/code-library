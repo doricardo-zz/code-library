{
 "cells": [
  {
   "cell_type": "code",
   "execution_count": null,
   "metadata": {},
   "outputs": [],
   "source": [
    "!pip install pandas\n",
    "!pip install plotly\n",
    "!pip install matplotlib\n",
    "!pip install numpy\n",
    "!pip install os\n",
    "!pip install urllib"
   ]
  },
  {
   "cell_type": "code",
   "execution_count": null,
   "metadata": {},
   "outputs": [],
   "source": [
    "import pandas as pd\n",
    "import numpy as np\n",
    "import matplotlib\n",
    "import matplotlib.pyplot as plt\n",
    "import os\n",
    "import urllib\n",
    "import pandas as pd, datetime as dt\n",
    "import plotly.graph_objects as go\n",
    "import plotly.express as px\n",
    "import plotly.offline as pyo\n",
    "from plotly.subplots import make_subplots\n",
    "from unidecode import unidecode\n",
    "\n",
    "from IPython.display import display, HTML, display_html\n",
    "\n",
    "pyo.init_notebook_mode()\n",
    "\n",
    "root_path = os.getcwd()\n",
    "save_path = os.path.join(os.getcwd(), root_path + \"/_includes/\")"
   ]
  },
  {
   "cell_type": "code",
   "execution_count": 2,
   "metadata": {},
   "outputs": [],
   "source": [
    "#Predição do encoding do arquivo\n",
    "def predict_encoding(file_path, n_lines=20):\n",
    "    '''Predict a file's encoding using chardet'''\n",
    "    import chardet\n",
    "    with open(file_path, 'rb') as f:\n",
    "        rawdata = b''.join([f.readline() for _ in range(n_lines)])\n",
    "\n",
    "    return chardet.detect(rawdata)['encoding']"
   ]
  }
 ],
 "metadata": {
  "kernelspec": {
   "display_name": "Python 3",
   "language": "python",
   "name": "python3"
  },
  "language_info": {
   "codemirror_mode": {
    "name": "ipython",
    "version": 3
   },
   "file_extension": ".py",
   "mimetype": "text/x-python",
   "name": "python",
   "nbconvert_exporter": "python",
   "pygments_lexer": "ipython3",
   "version": "3.6.10"
  }
 },
 "nbformat": 4,
 "nbformat_minor": 4
}
